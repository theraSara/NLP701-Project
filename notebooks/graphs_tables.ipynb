{
 "cells": [
  {
   "cell_type": "code",
   "execution_count": 5,
   "metadata": {},
   "outputs": [
    {
     "name": "stdout",
     "output_type": "stream",
     "text": [
      "Collecting tabulate\n",
      "  Using cached tabulate-0.9.0-py3-none-any.whl.metadata (34 kB)\n",
      "Using cached tabulate-0.9.0-py3-none-any.whl (35 kB)\n",
      "Installing collected packages: tabulate\n",
      "Successfully installed tabulate-0.9.0\n"
     ]
    }
   ],
   "source": [
    "!pip install tabulate"
   ]
  },
  {
   "cell_type": "code",
   "execution_count": 1,
   "metadata": {},
   "outputs": [],
   "source": [
    "import pandas as pd"
   ]
  },
  {
   "cell_type": "code",
   "execution_count": 10,
   "metadata": {},
   "outputs": [
    {
     "name": "stdout",
     "output_type": "stream",
     "text": [
      "| Model      | Dataset   |   Accuracy |       F1 |   Precision |   Recall |     Loss |\n",
      "|:-----------|:----------|-----------:|---------:|------------:|---------:|---------:|\n",
      "| DISTILBERT | SST2      |   0.880734 | 0.880176 |    0.883394 | 0.880734 | 0.358196 |\n",
      "| DISTILBERT | IMDB      |   0.93152  | 0.931512 |    0.931734 | 0.93152  | 0.288467 |\n",
      "| TINYBERT   | SST2      |   0.892202 | 0.892278 |    0.894467 | 0.892202 | 0.279135 |\n",
      "| TINYBERT   | IMDB      |   0.88644  | 0.886435 |    0.886507 | 0.88644  | 0.299799 |\n",
      "| ALBERT     | SST2      |   0.917431 | 0.917409 |    0.917425 | 0.917431 | 0.237644 |\n",
      "| ALBERT     | IMDB      |   0.94416  | 0.944155 |    0.944324 | 0.94416  | 0.266679 |\n"
     ]
    }
   ],
   "source": [
    "df = pd.read_csv('/Users/vanilla/Documents/courses/NLP701/project/NLP701-Project/results/model_performance_summary.csv')\n",
    "print(df.to_markdown(index=False))"
   ]
  },
  {
   "cell_type": "code",
   "execution_count": null,
   "metadata": {},
   "outputs": [],
   "source": []
  }
 ],
 "metadata": {
  "kernelspec": {
   "display_name": "base",
   "language": "python",
   "name": "python3"
  },
  "language_info": {
   "codemirror_mode": {
    "name": "ipython",
    "version": 3
   },
   "file_extension": ".py",
   "mimetype": "text/x-python",
   "name": "python",
   "nbconvert_exporter": "python",
   "pygments_lexer": "ipython3",
   "version": "3.13.5"
  }
 },
 "nbformat": 4,
 "nbformat_minor": 2
}
